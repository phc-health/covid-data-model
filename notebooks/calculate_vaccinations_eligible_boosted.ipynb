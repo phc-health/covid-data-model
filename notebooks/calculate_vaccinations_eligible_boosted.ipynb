{
 "cells": [
  {
   "cell_type": "code",
   "execution_count": null,
   "id": "8f0e2d07",
   "metadata": {},
   "outputs": [],
   "source": [
    "\"\"\"Calculate the percentage of people with an additional vaccine dose out of the total eligible population.\n",
    "\n",
    "Eligible = a second Pfizer/Moderna dose at least 5 months ago, or a J&J dose at least 2 months ago\n",
    "\n",
    "To see more on booster eligibility as of 2/3/2022: \n",
    "    https://www.cdc.gov/coronavirus/2019-ncov/vaccines/booster-shot.html\n",
    "\n",
    "\n",
    "For any further/future use, replace dataframe slicing with some kind of Pandas rolling/groupby function.\n",
    "\"\"\"\n",
    "\n",
    "import pandas as pd\n",
    "from datetime import timedelta\n",
    "\n",
    "# for displaying graphs in notebook\n",
    "pd.set_option('plotting.backend', 'plotly')\n",
    "import plotly.offline as py\n",
    "py.init_notebook_mode(connected=True)\n"
   ]
  },
  {
   "cell_type": "code",
   "execution_count": null,
   "id": "0d0dcf6b",
   "metadata": {},
   "outputs": [],
   "source": [
    "fetched = pd.read_csv(\"https://data.cdc.gov/api/views/unsk-b7fc/rows.csv?accessType=DOWNLOAD\")"
   ]
  },
  {
   "cell_type": "code",
   "execution_count": null,
   "id": "1b7780dd",
   "metadata": {},
   "outputs": [],
   "source": [
    "# Format/rename columns \n",
    "\n",
    "cols = {\"Location\":\"state\", \"Date\": \"dt\", \"Administered_Dose1_Recip\":\"initiated\", \"Series_Complete_12Plus\":\"completed_12_plus\", \"Administered_Janssen\": \"jj_series\", \"Additional_Doses\": \"additional_dose\"}\n",
    "data = (\n",
    "    fetched.loc[:, cols.keys()]\n",
    "    .rename(columns=cols)\n",
    "    .assign(dt=lambda row: pd.to_datetime(row[\"dt\"]))\n",
    ")"
   ]
  },
  {
   "cell_type": "markdown",
   "id": "78f27642",
   "metadata": {},
   "source": [
    "## Current Date"
   ]
  },
  {
   "cell_type": "code",
   "execution_count": null,
   "id": "714471ba",
   "metadata": {},
   "outputs": [],
   "source": [
    "# Find first day of eligibility (5 months ago for Pfizer/Moderna, 2 months for J&J)\n",
    "# Assume all months are 30 days for now\n",
    "\n",
    "window = (pd.Timestamp.today() - timedelta(days=5*30)).floor('d')\n",
    "window_jj = (pd.Timestamp.today() - timedelta(days=2*30)).floor('d')"
   ]
  },
  {
   "cell_type": "code",
   "execution_count": null,
   "id": "28189682",
   "metadata": {},
   "outputs": [],
   "source": [
    "# Find eligible for both 2 dose vaccines and J&J, then combine\n",
    "# Eligible = a second Pfizer/Moderna dose at least 5 months ago, or a J&J dose at least 2 months ago\n",
    "\n",
    "eligible = data[data[\"dt\"] == window].set_index(\"state\")[\"completed_12_plus\"]\n",
    "eligible_jj = data[data[\"dt\"] == window_jj].set_index(\"state\")[\"jj_series\"]  # all JJ series are >= 18 years\n",
    "\n",
    "eligible = eligible + eligible_jj\n",
    "eligible.name = \"eligible\""
   ]
  },
  {
   "cell_type": "code",
   "execution_count": null,
   "id": "564ba4c1",
   "metadata": {},
   "outputs": [],
   "source": [
    "# Cumulative number of people boosted as of the current date\n",
    "\n",
    "current_additional = data[data[\"dt\"] == data[\"dt\"].max()].set_index(\"state\")[[\"additional_dose\", \"dt\"]]"
   ]
  },
  {
   "cell_type": "code",
   "execution_count": null,
   "id": "d017417c",
   "metadata": {},
   "outputs": [],
   "source": [
    "# Combine eligible and current boosted data and calculate %\n",
    "\n",
    "combined = current_additional.join(eligible)\n",
    "combined[\"percent_up_to_date\"] = combined[\"additional_dose\"] / combined[\"eligible\"]\n",
    "# combined.sort_values(\"percent_up_to_date\", ascending=False)"
   ]
  },
  {
   "cell_type": "markdown",
   "id": "93ea668b",
   "metadata": {},
   "source": [
    "## Timeseries"
   ]
  },
  {
   "cell_type": "code",
   "execution_count": null,
   "id": "bd9e2aea",
   "metadata": {},
   "outputs": [],
   "source": [
    "## This copies the steps above to create a makeshift timeseries.\n",
    "## Rework this to use a Pandas groupby/rolling function instead of slicing the dataframe like this. \n",
    "\n",
    "dfs = []\n",
    "for date in pd.date_range(start='11/01/2021', end='2/02/2022'):\n",
    "    # Find latest days of eligibility\n",
    "    window = (date - timedelta(days=5*30)).floor('d')\n",
    "    window_jj = (date - timedelta(days=2*30)).floor('d')\n",
    "    \n",
    "    # calculate eligible people\n",
    "    eligible = data[data[\"dt\"] == window].set_index([\"state\"])[\"completed_12_plus\"]\n",
    "    eligible_jj = data[data[\"dt\"] == window_jj].set_index(\"state\")[\"jj_series\"]  # all JJ series are >= 18 years\n",
    "    eligible = eligible + eligible_jj\n",
    "    eligible.name = \"eligible\"\n",
    "    \n",
    "    # Calculate % of eligible boosted\n",
    "    current_additional = data[data[\"dt\"] == date].set_index(\"state\")[[\"additional_dose\", \"dt\"]]\n",
    "    combined = current_additional.join(eligible)\n",
    "    combined[\"percent_up_to_date\"] = combined[\"additional_dose\"] / combined[\"eligible\"]\n",
    "    \n",
    "    # add this date to the list of dataframes\n",
    "    dfs.append(combined)\n",
    "    \n",
    "# combine all the output date dataframes\n",
    "out = pd.concat(dfs)\n",
    "out = out.reset_index()"
   ]
  },
  {
   "cell_type": "code",
   "execution_count": null,
   "id": "11a8cfa9",
   "metadata": {},
   "outputs": [],
   "source": [
    "out.loc[out[\"state\"] == \"CA\"].plot(x=\"dt\", y=[\"percent_up_to_date\"])"
   ]
  },
  {
   "cell_type": "code",
   "execution_count": null,
   "id": "2f3004be",
   "metadata": {},
   "outputs": [],
   "source": [
    "out"
   ]
  },
  {
   "cell_type": "code",
   "execution_count": null,
   "id": "9001c968",
   "metadata": {},
   "outputs": [],
   "source": []
  }
 ],
 "metadata": {
  "kernelspec": {
   "display_name": "Python 3.7.11 64-bit ('covid-data-model': conda)",
   "language": "python",
   "name": "python3711jvsc74a57bd0c96b948a1a0624ea7b971db727b4e2de382ea5c319eadb6617b88a33c249505a"
  },
  "language_info": {
   "codemirror_mode": {
    "name": "ipython",
    "version": 3
   },
   "file_extension": ".py",
   "mimetype": "text/x-python",
   "name": "python",
   "nbconvert_exporter": "python",
   "pygments_lexer": "ipython3",
   "version": "3.7.11"
  }
 },
 "nbformat": 4,
 "nbformat_minor": 5
}
